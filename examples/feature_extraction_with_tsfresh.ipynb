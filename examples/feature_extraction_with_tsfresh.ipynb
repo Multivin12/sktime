{
 "cells": [
  {
   "cell_type": "markdown",
   "metadata": {},
   "source": [
    "# Feature extraction with tsfresh transformer\n",
    "\n",
    "In this tutorial, we show how you can use `sktime` with [`tsfresh`](https://tsfresh.readthedocs.io) to first extract features from time series, so that we can then use any scikit-learn estimator."
   ]
  },
  {
   "cell_type": "markdown",
   "metadata": {},
   "source": [
    "## Preliminaries\n",
    "You have to install tsfresh if you haven't already. To install it, uncomment the cell below:"
   ]
  },
  {
   "cell_type": "code",
   "execution_count": 1,
   "metadata": {},
   "outputs": [],
   "source": [
    "# !pip install --upgrade tsfresh"
   ]
  },
  {
   "cell_type": "code",
   "execution_count": 2,
   "metadata": {},
   "outputs": [],
   "source": [
    "import numpy as np\n",
    "from sklearn.model_selection import train_test_split\n",
    "from sklearn.ensemble import RandomForestClassifier\n",
    "from sklearn.pipeline import make_pipeline\n",
    "from sktime.datasets import load_basic_motions\n",
    "from sktime.datasets import load_gunpoint\n",
    "from sktime.transformers.series_as_features.summarize import \\\n",
    "    TSFreshFeatureExtractor"
   ]
  },
  {
   "cell_type": "markdown",
   "metadata": {},
   "source": [
    "## Univariate time series classification data\n",
    "\n",
    "For more details on the data set, see the [univariate time series classification notebook](https://github.com/alan-turing-institute/sktime/blob/master/examples/01_classification_univariate.ipynb)."
   ]
  },
  {
   "cell_type": "code",
   "execution_count": 3,
   "metadata": {},
   "outputs": [
    {
     "name": "stdout",
     "output_type": "stream",
     "text": [
      "(150, 1) (150,) (50, 1) (50,)\n"
     ]
    }
   ],
   "source": [
    "X, y = load_gunpoint(return_X_y=True)\n",
    "X_train, X_test, y_train, y_test = train_test_split(X, y)\n",
    "print(X_train.shape, y_train.shape, X_test.shape, y_test.shape)"
   ]
  },
  {
   "cell_type": "code",
   "execution_count": 4,
   "metadata": {
    "collapsed": false,
    "pycharm": {
     "name": "#%%\n"
    }
   },
   "outputs": [
    {
     "data": {
      "text/html": [
       "<div>\n",
       "<style scoped>\n",
       "    .dataframe tbody tr th:only-of-type {\n",
       "        vertical-align: middle;\n",
       "    }\n",
       "\n",
       "    .dataframe tbody tr th {\n",
       "        vertical-align: top;\n",
       "    }\n",
       "\n",
       "    .dataframe thead th {\n",
       "        text-align: right;\n",
       "    }\n",
       "</style>\n",
       "<table border=\"1\" class=\"dataframe\">\n",
       "  <thead>\n",
       "    <tr style=\"text-align: right;\">\n",
       "      <th></th>\n",
       "      <th>dim_0</th>\n",
       "    </tr>\n",
       "  </thead>\n",
       "  <tbody>\n",
       "    <tr>\n",
       "      <th>96</th>\n",
       "      <td>0     -0.67835\n",
       "1     -0.67799\n",
       "2     -0.67523\n",
       "3...</td>\n",
       "    </tr>\n",
       "    <tr>\n",
       "      <th>10</th>\n",
       "      <td>0     -0.81632\n",
       "1     -0.81410\n",
       "2     -0.81589\n",
       "3...</td>\n",
       "    </tr>\n",
       "    <tr>\n",
       "      <th>17</th>\n",
       "      <td>0     -0.62213\n",
       "1     -0.61916\n",
       "2     -0.61331\n",
       "3...</td>\n",
       "    </tr>\n",
       "    <tr>\n",
       "      <th>65</th>\n",
       "      <td>0     -0.72544\n",
       "1     -0.73082\n",
       "2     -0.73484\n",
       "3...</td>\n",
       "    </tr>\n",
       "    <tr>\n",
       "      <th>6</th>\n",
       "      <td>0     -1.1063\n",
       "1     -1.1656\n",
       "2     -1.2526\n",
       "3   ...</td>\n",
       "    </tr>\n",
       "  </tbody>\n",
       "</table>\n",
       "</div>"
      ],
      "text/plain": [
       "                                                dim_0\n",
       "96  0     -0.67835\n",
       "1     -0.67799\n",
       "2     -0.67523\n",
       "3...\n",
       "10  0     -0.81632\n",
       "1     -0.81410\n",
       "2     -0.81589\n",
       "3...\n",
       "17  0     -0.62213\n",
       "1     -0.61916\n",
       "2     -0.61331\n",
       "3...\n",
       "65  0     -0.72544\n",
       "1     -0.73082\n",
       "2     -0.73484\n",
       "3...\n",
       "6   0     -1.1063\n",
       "1     -1.1656\n",
       "2     -1.2526\n",
       "3   ..."
      ]
     },
     "execution_count": 4,
     "metadata": {},
     "output_type": "execute_result"
    }
   ],
   "source": [
    "X_train.head()"
   ]
  },
  {
   "cell_type": "code",
   "execution_count": 5,
   "metadata": {},
   "outputs": [
    {
     "data": {
      "text/plain": [
       "array(['1', '2'], dtype=object)"
      ]
     },
     "execution_count": 5,
     "metadata": {},
     "output_type": "execute_result"
    }
   ],
   "source": [
    "# binary classification task\n",
    "np.unique(y_train)"
   ]
  },
  {
   "cell_type": "markdown",
   "metadata": {},
   "source": [
    "## Using tsfresh to extract features"
   ]
  },
  {
   "cell_type": "code",
   "execution_count": 6,
   "metadata": {},
   "outputs": [
    {
     "name": "stderr",
     "output_type": "stream",
     "text": [
      "/Users/travis/build/alan-turing-institute/sktime/sktime/transformers/series_as_features/summarize/_tsfresh.py:150: UserWarning: Found non-unique index, replaced with unique index.\n",
      "  warn(\"Found non-unique index, replaced with unique index.\")\n"
     ]
    },
    {
     "name": "stderr",
     "output_type": "stream",
     "text": [
      "\r",
      "Feature Extraction:   0%|          | 0/5 [00:00<?, ?it/s]"
     ]
    },
    {
     "name": "stderr",
     "output_type": "stream",
     "text": [
      "\r",
      "Feature Extraction:  20%|██        | 1/5 [00:03<00:15,  3.88s/it]"
     ]
    },
    {
     "name": "stderr",
     "output_type": "stream",
     "text": [
      "\r",
      "Feature Extraction:  40%|████      | 2/5 [00:07<00:11,  3.76s/it]"
     ]
    },
    {
     "name": "stderr",
     "output_type": "stream",
     "text": [
      "\r",
      "Feature Extraction:  60%|██████    | 3/5 [00:10<00:07,  3.70s/it]"
     ]
    },
    {
     "name": "stderr",
     "output_type": "stream",
     "text": [
      "\r",
      "Feature Extraction:  80%|████████  | 4/5 [00:14<00:03,  3.66s/it]"
     ]
    },
    {
     "name": "stderr",
     "output_type": "stream",
     "text": [
      "\r",
      "Feature Extraction: 100%|██████████| 5/5 [00:18<00:00,  3.62s/it]"
     ]
    },
    {
     "name": "stderr",
     "output_type": "stream",
     "text": [
      "\r",
      "Feature Extraction: 100%|██████████| 5/5 [00:18<00:00,  3.60s/it]"
     ]
    },
    {
     "name": "stderr",
     "output_type": "stream",
     "text": [
      "\n"
     ]
    },
    {
     "data": {
      "text/html": [
       "<div>\n",
       "<style scoped>\n",
       "    .dataframe tbody tr th:only-of-type {\n",
       "        vertical-align: middle;\n",
       "    }\n",
       "\n",
       "    .dataframe tbody tr th {\n",
       "        vertical-align: top;\n",
       "    }\n",
       "\n",
       "    .dataframe thead th {\n",
       "        text-align: right;\n",
       "    }\n",
       "</style>\n",
       "<table border=\"1\" class=\"dataframe\">\n",
       "  <thead>\n",
       "    <tr style=\"text-align: right;\">\n",
       "      <th>variable</th>\n",
       "      <th>dim_0__abs_energy</th>\n",
       "      <th>dim_0__absolute_sum_of_changes</th>\n",
       "      <th>dim_0__agg_autocorrelation__f_agg_\"mean\"__maxlag_40</th>\n",
       "      <th>dim_0__agg_autocorrelation__f_agg_\"median\"__maxlag_40</th>\n",
       "      <th>dim_0__agg_autocorrelation__f_agg_\"var\"__maxlag_40</th>\n",
       "      <th>dim_0__agg_linear_trend__attr_\"intercept\"__chunk_len_10__f_agg_\"max\"</th>\n",
       "      <th>dim_0__agg_linear_trend__attr_\"intercept\"__chunk_len_10__f_agg_\"mean\"</th>\n",
       "      <th>dim_0__agg_linear_trend__attr_\"intercept\"__chunk_len_10__f_agg_\"min\"</th>\n",
       "      <th>dim_0__agg_linear_trend__attr_\"intercept\"__chunk_len_10__f_agg_\"var\"</th>\n",
       "      <th>dim_0__agg_linear_trend__attr_\"intercept\"__chunk_len_50__f_agg_\"max\"</th>\n",
       "      <th>...</th>\n",
       "      <th>dim_0__symmetry_looking__r_0.9500000000000001</th>\n",
       "      <th>dim_0__time_reversal_asymmetry_statistic__lag_1</th>\n",
       "      <th>dim_0__time_reversal_asymmetry_statistic__lag_2</th>\n",
       "      <th>dim_0__time_reversal_asymmetry_statistic__lag_3</th>\n",
       "      <th>dim_0__value_count__value_-1</th>\n",
       "      <th>dim_0__value_count__value_0</th>\n",
       "      <th>dim_0__value_count__value_1</th>\n",
       "      <th>dim_0__variance</th>\n",
       "      <th>dim_0__variance_larger_than_standard_deviation</th>\n",
       "      <th>dim_0__variation_coefficient</th>\n",
       "    </tr>\n",
       "  </thead>\n",
       "  <tbody>\n",
       "    <tr>\n",
       "      <th>0</th>\n",
       "      <td>149.000664</td>\n",
       "      <td>25.362668</td>\n",
       "      <td>0.429878</td>\n",
       "      <td>0.482114</td>\n",
       "      <td>0.102770</td>\n",
       "      <td>-1.213345</td>\n",
       "      <td>-1.085570</td>\n",
       "      <td>-0.700132</td>\n",
       "      <td>-0.117202</td>\n",
       "      <td>-0.532308</td>\n",
       "      <td>...</td>\n",
       "      <td>1.0</td>\n",
       "      <td>-0.001681</td>\n",
       "      <td>-0.001042</td>\n",
       "      <td>0.001164</td>\n",
       "      <td>0.0</td>\n",
       "      <td>0.0</td>\n",
       "      <td>0.0</td>\n",
       "      <td>0.993338</td>\n",
       "      <td>0.0</td>\n",
       "      <td>1.010132e+06</td>\n",
       "    </tr>\n",
       "    <tr>\n",
       "      <th>1</th>\n",
       "      <td>149.000967</td>\n",
       "      <td>31.542090</td>\n",
       "      <td>0.591850</td>\n",
       "      <td>0.643672</td>\n",
       "      <td>0.045542</td>\n",
       "      <td>-1.068173</td>\n",
       "      <td>-1.230264</td>\n",
       "      <td>-1.040828</td>\n",
       "      <td>-0.068216</td>\n",
       "      <td>-0.056917</td>\n",
       "      <td>...</td>\n",
       "      <td>1.0</td>\n",
       "      <td>0.005803</td>\n",
       "      <td>0.005564</td>\n",
       "      <td>0.006756</td>\n",
       "      <td>0.0</td>\n",
       "      <td>0.0</td>\n",
       "      <td>0.0</td>\n",
       "      <td>0.993340</td>\n",
       "      <td>0.0</td>\n",
       "      <td>3.576547e+05</td>\n",
       "    </tr>\n",
       "    <tr>\n",
       "      <th>2</th>\n",
       "      <td>149.000680</td>\n",
       "      <td>24.964960</td>\n",
       "      <td>0.481046</td>\n",
       "      <td>0.532340</td>\n",
       "      <td>0.089584</td>\n",
       "      <td>-1.076461</td>\n",
       "      <td>-1.210659</td>\n",
       "      <td>-0.894465</td>\n",
       "      <td>-0.085382</td>\n",
       "      <td>-0.158798</td>\n",
       "      <td>...</td>\n",
       "      <td>1.0</td>\n",
       "      <td>0.001650</td>\n",
       "      <td>0.005504</td>\n",
       "      <td>0.008483</td>\n",
       "      <td>0.0</td>\n",
       "      <td>0.0</td>\n",
       "      <td>0.0</td>\n",
       "      <td>0.993338</td>\n",
       "      <td>0.0</td>\n",
       "      <td>6.127029e+05</td>\n",
       "    </tr>\n",
       "    <tr>\n",
       "      <th>3</th>\n",
       "      <td>149.000490</td>\n",
       "      <td>26.699018</td>\n",
       "      <td>0.505264</td>\n",
       "      <td>0.565465</td>\n",
       "      <td>0.075689</td>\n",
       "      <td>-1.122256</td>\n",
       "      <td>-1.167389</td>\n",
       "      <td>-0.861415</td>\n",
       "      <td>-0.103517</td>\n",
       "      <td>-0.204129</td>\n",
       "      <td>...</td>\n",
       "      <td>1.0</td>\n",
       "      <td>-0.000167</td>\n",
       "      <td>-0.004344</td>\n",
       "      <td>-0.003713</td>\n",
       "      <td>0.0</td>\n",
       "      <td>0.0</td>\n",
       "      <td>0.0</td>\n",
       "      <td>0.993337</td>\n",
       "      <td>0.0</td>\n",
       "      <td>1.397191e+06</td>\n",
       "    </tr>\n",
       "    <tr>\n",
       "      <th>4</th>\n",
       "      <td>148.999681</td>\n",
       "      <td>41.389860</td>\n",
       "      <td>0.399061</td>\n",
       "      <td>0.413676</td>\n",
       "      <td>0.050069</td>\n",
       "      <td>-0.385935</td>\n",
       "      <td>-0.833533</td>\n",
       "      <td>-1.520563</td>\n",
       "      <td>0.279347</td>\n",
       "      <td>1.084767</td>\n",
       "      <td>...</td>\n",
       "      <td>1.0</td>\n",
       "      <td>-0.003086</td>\n",
       "      <td>-0.004844</td>\n",
       "      <td>-0.006565</td>\n",
       "      <td>0.0</td>\n",
       "      <td>0.0</td>\n",
       "      <td>0.0</td>\n",
       "      <td>0.993331</td>\n",
       "      <td>0.0</td>\n",
       "      <td>-5.245579e+05</td>\n",
       "    </tr>\n",
       "  </tbody>\n",
       "</table>\n",
       "<p>5 rows × 757 columns</p>\n",
       "</div>"
      ],
      "text/plain": [
       "variable  dim_0__abs_energy  dim_0__absolute_sum_of_changes  \\\n",
       "0                149.000664                       25.362668   \n",
       "1                149.000967                       31.542090   \n",
       "2                149.000680                       24.964960   \n",
       "3                149.000490                       26.699018   \n",
       "4                148.999681                       41.389860   \n",
       "\n",
       "variable  dim_0__agg_autocorrelation__f_agg_\"mean\"__maxlag_40  \\\n",
       "0                                                  0.429878     \n",
       "1                                                  0.591850     \n",
       "2                                                  0.481046     \n",
       "3                                                  0.505264     \n",
       "4                                                  0.399061     \n",
       "\n",
       "variable  dim_0__agg_autocorrelation__f_agg_\"median\"__maxlag_40  \\\n",
       "0                                                  0.482114       \n",
       "1                                                  0.643672       \n",
       "2                                                  0.532340       \n",
       "3                                                  0.565465       \n",
       "4                                                  0.413676       \n",
       "\n",
       "variable  dim_0__agg_autocorrelation__f_agg_\"var\"__maxlag_40  \\\n",
       "0                                                  0.102770    \n",
       "1                                                  0.045542    \n",
       "2                                                  0.089584    \n",
       "3                                                  0.075689    \n",
       "4                                                  0.050069    \n",
       "\n",
       "variable  dim_0__agg_linear_trend__attr_\"intercept\"__chunk_len_10__f_agg_\"max\"  \\\n",
       "0                                                 -1.213345                      \n",
       "1                                                 -1.068173                      \n",
       "2                                                 -1.076461                      \n",
       "3                                                 -1.122256                      \n",
       "4                                                 -0.385935                      \n",
       "\n",
       "variable  dim_0__agg_linear_trend__attr_\"intercept\"__chunk_len_10__f_agg_\"mean\"  \\\n",
       "0                                                 -1.085570                       \n",
       "1                                                 -1.230264                       \n",
       "2                                                 -1.210659                       \n",
       "3                                                 -1.167389                       \n",
       "4                                                 -0.833533                       \n",
       "\n",
       "variable  dim_0__agg_linear_trend__attr_\"intercept\"__chunk_len_10__f_agg_\"min\"  \\\n",
       "0                                                 -0.700132                      \n",
       "1                                                 -1.040828                      \n",
       "2                                                 -0.894465                      \n",
       "3                                                 -0.861415                      \n",
       "4                                                 -1.520563                      \n",
       "\n",
       "variable  dim_0__agg_linear_trend__attr_\"intercept\"__chunk_len_10__f_agg_\"var\"  \\\n",
       "0                                                 -0.117202                      \n",
       "1                                                 -0.068216                      \n",
       "2                                                 -0.085382                      \n",
       "3                                                 -0.103517                      \n",
       "4                                                  0.279347                      \n",
       "\n",
       "variable  dim_0__agg_linear_trend__attr_\"intercept\"__chunk_len_50__f_agg_\"max\"  \\\n",
       "0                                                 -0.532308                      \n",
       "1                                                 -0.056917                      \n",
       "2                                                 -0.158798                      \n",
       "3                                                 -0.204129                      \n",
       "4                                                  1.084767                      \n",
       "\n",
       "variable  ...  dim_0__symmetry_looking__r_0.9500000000000001  \\\n",
       "0         ...                                            1.0   \n",
       "1         ...                                            1.0   \n",
       "2         ...                                            1.0   \n",
       "3         ...                                            1.0   \n",
       "4         ...                                            1.0   \n",
       "\n",
       "variable  dim_0__time_reversal_asymmetry_statistic__lag_1  \\\n",
       "0                                               -0.001681   \n",
       "1                                                0.005803   \n",
       "2                                                0.001650   \n",
       "3                                               -0.000167   \n",
       "4                                               -0.003086   \n",
       "\n",
       "variable  dim_0__time_reversal_asymmetry_statistic__lag_2  \\\n",
       "0                                               -0.001042   \n",
       "1                                                0.005564   \n",
       "2                                                0.005504   \n",
       "3                                               -0.004344   \n",
       "4                                               -0.004844   \n",
       "\n",
       "variable  dim_0__time_reversal_asymmetry_statistic__lag_3  \\\n",
       "0                                                0.001164   \n",
       "1                                                0.006756   \n",
       "2                                                0.008483   \n",
       "3                                               -0.003713   \n",
       "4                                               -0.006565   \n",
       "\n",
       "variable  dim_0__value_count__value_-1  dim_0__value_count__value_0  \\\n",
       "0                                  0.0                          0.0   \n",
       "1                                  0.0                          0.0   \n",
       "2                                  0.0                          0.0   \n",
       "3                                  0.0                          0.0   \n",
       "4                                  0.0                          0.0   \n",
       "\n",
       "variable  dim_0__value_count__value_1  dim_0__variance  \\\n",
       "0                                 0.0         0.993338   \n",
       "1                                 0.0         0.993340   \n",
       "2                                 0.0         0.993338   \n",
       "3                                 0.0         0.993337   \n",
       "4                                 0.0         0.993331   \n",
       "\n",
       "variable  dim_0__variance_larger_than_standard_deviation  \\\n",
       "0                                                    0.0   \n",
       "1                                                    0.0   \n",
       "2                                                    0.0   \n",
       "3                                                    0.0   \n",
       "4                                                    0.0   \n",
       "\n",
       "variable  dim_0__variation_coefficient  \n",
       "0                         1.010132e+06  \n",
       "1                         3.576547e+05  \n",
       "2                         6.127029e+05  \n",
       "3                         1.397191e+06  \n",
       "4                        -5.245579e+05  \n",
       "\n",
       "[5 rows x 757 columns]"
      ]
     },
     "execution_count": 6,
     "metadata": {},
     "output_type": "execute_result"
    }
   ],
   "source": [
    "# tf = TsFreshTransfomer()\n",
    "t = TSFreshFeatureExtractor(default_fc_parameters=\"efficient\", show_warnings=False)\n",
    "Xt = t.fit_transform(X_train)\n",
    "Xt.head()"
   ]
  },
  {
   "cell_type": "markdown",
   "metadata": {},
   "source": [
    "## Using tsfresh with sktime"
   ]
  },
  {
   "cell_type": "code",
   "execution_count": 7,
   "metadata": {},
   "outputs": [
    {
     "name": "stderr",
     "output_type": "stream",
     "text": [
      "/Users/travis/build/alan-turing-institute/sktime/sktime/transformers/series_as_features/summarize/_tsfresh.py:150: UserWarning: Found non-unique index, replaced with unique index.\n",
      "  warn(\"Found non-unique index, replaced with unique index.\")\n"
     ]
    },
    {
     "name": "stderr",
     "output_type": "stream",
     "text": [
      "\r",
      "Feature Extraction:   0%|          | 0/5 [00:00<?, ?it/s]"
     ]
    },
    {
     "name": "stderr",
     "output_type": "stream",
     "text": [
      "\r",
      "Feature Extraction:  20%|██        | 1/5 [00:03<00:14,  3.62s/it]"
     ]
    },
    {
     "name": "stderr",
     "output_type": "stream",
     "text": [
      "\r",
      "Feature Extraction:  40%|████      | 2/5 [00:07<00:10,  3.59s/it]"
     ]
    },
    {
     "name": "stderr",
     "output_type": "stream",
     "text": [
      "\r",
      "Feature Extraction:  60%|██████    | 3/5 [00:10<00:07,  3.57s/it]"
     ]
    },
    {
     "name": "stderr",
     "output_type": "stream",
     "text": [
      "\r",
      "Feature Extraction:  80%|████████  | 4/5 [00:14<00:03,  3.62s/it]"
     ]
    },
    {
     "name": "stderr",
     "output_type": "stream",
     "text": [
      "\r",
      "Feature Extraction: 100%|██████████| 5/5 [00:18<00:00,  3.62s/it]"
     ]
    },
    {
     "name": "stderr",
     "output_type": "stream",
     "text": [
      "\r",
      "Feature Extraction: 100%|██████████| 5/5 [00:18<00:00,  3.60s/it]"
     ]
    },
    {
     "name": "stderr",
     "output_type": "stream",
     "text": [
      "\n"
     ]
    },
    {
     "name": "stderr",
     "output_type": "stream",
     "text": [
      "/Users/travis/build/alan-turing-institute/sktime/sktime/transformers/series_as_features/summarize/_tsfresh.py:150: UserWarning: Found non-unique index, replaced with unique index.\n",
      "  warn(\"Found non-unique index, replaced with unique index.\")\n"
     ]
    },
    {
     "name": "stderr",
     "output_type": "stream",
     "text": [
      "\r",
      "Feature Extraction:   0%|          | 0/5 [00:00<?, ?it/s]"
     ]
    },
    {
     "name": "stderr",
     "output_type": "stream",
     "text": [
      "\r",
      "Feature Extraction:  20%|██        | 1/5 [00:01<00:05,  1.25s/it]"
     ]
    },
    {
     "name": "stderr",
     "output_type": "stream",
     "text": [
      "\r",
      "Feature Extraction:  40%|████      | 2/5 [00:02<00:03,  1.23s/it]"
     ]
    },
    {
     "name": "stderr",
     "output_type": "stream",
     "text": [
      "\r",
      "Feature Extraction:  60%|██████    | 3/5 [00:03<00:02,  1.22s/it]"
     ]
    },
    {
     "name": "stderr",
     "output_type": "stream",
     "text": [
      "\r",
      "Feature Extraction:  80%|████████  | 4/5 [00:04<00:01,  1.21s/it]"
     ]
    },
    {
     "name": "stderr",
     "output_type": "stream",
     "text": [
      "\r",
      "Feature Extraction: 100%|██████████| 5/5 [00:05<00:00,  1.20s/it]"
     ]
    },
    {
     "name": "stderr",
     "output_type": "stream",
     "text": [
      "\r",
      "Feature Extraction: 100%|██████████| 5/5 [00:06<00:00,  1.20s/it]"
     ]
    },
    {
     "name": "stderr",
     "output_type": "stream",
     "text": [
      "\n"
     ]
    },
    {
     "data": {
      "text/plain": [
       "1.0"
      ]
     },
     "execution_count": 7,
     "metadata": {},
     "output_type": "execute_result"
    }
   ],
   "source": [
    "classifier = make_pipeline(\n",
    "    TSFreshFeatureExtractor(default_fc_parameters=\"efficient\", show_warnings=False),\n",
    "    RandomForestClassifier()\n",
    ")\n",
    "classifier.fit(X_train, y_train)\n",
    "classifier.score(X_test, y_test)"
   ]
  },
  {
   "cell_type": "markdown",
   "metadata": {},
   "source": [
    "## Multivariate time series classification data"
   ]
  },
  {
   "cell_type": "code",
   "execution_count": 8,
   "metadata": {
    "scrolled": true
   },
   "outputs": [
    {
     "name": "stdout",
     "output_type": "stream",
     "text": [
      "(60, 6) (60,) (20, 6) (20,)\n"
     ]
    }
   ],
   "source": [
    "X, y = load_basic_motions(return_X_y=True)\n",
    "X_train, X_test, y_train, y_test = train_test_split(X, y)\n",
    "print(X_train.shape, y_train.shape, X_test.shape, y_test.shape)"
   ]
  },
  {
   "cell_type": "code",
   "execution_count": 9,
   "metadata": {
    "collapsed": false,
    "pycharm": {
     "name": "#%%\n"
    }
   },
   "outputs": [
    {
     "data": {
      "text/html": [
       "<div>\n",
       "<style scoped>\n",
       "    .dataframe tbody tr th:only-of-type {\n",
       "        vertical-align: middle;\n",
       "    }\n",
       "\n",
       "    .dataframe tbody tr th {\n",
       "        vertical-align: top;\n",
       "    }\n",
       "\n",
       "    .dataframe thead th {\n",
       "        text-align: right;\n",
       "    }\n",
       "</style>\n",
       "<table border=\"1\" class=\"dataframe\">\n",
       "  <thead>\n",
       "    <tr style=\"text-align: right;\">\n",
       "      <th></th>\n",
       "      <th>dim_0</th>\n",
       "      <th>dim_1</th>\n",
       "      <th>dim_2</th>\n",
       "      <th>dim_3</th>\n",
       "      <th>dim_4</th>\n",
       "      <th>dim_5</th>\n",
       "    </tr>\n",
       "  </thead>\n",
       "  <tbody>\n",
       "    <tr>\n",
       "      <th>7</th>\n",
       "      <td>0    -0.352746\n",
       "1    -0.352746\n",
       "2    -1.354561\n",
       "3...</td>\n",
       "      <td>0     0.316845\n",
       "1     0.316845\n",
       "2     0.490525\n",
       "3...</td>\n",
       "      <td>0    -0.473779\n",
       "1    -0.473779\n",
       "2     1.454261\n",
       "3...</td>\n",
       "      <td>0    -0.327595\n",
       "1    -0.327595\n",
       "2    -0.269001\n",
       "3...</td>\n",
       "      <td>0     0.106535\n",
       "1     0.106535\n",
       "2     0.021307\n",
       "3...</td>\n",
       "      <td>0     0.197090\n",
       "1     0.197090\n",
       "2     0.460763\n",
       "3...</td>\n",
       "    </tr>\n",
       "    <tr>\n",
       "      <th>15</th>\n",
       "      <td>0     -0.159076\n",
       "1     -0.159076\n",
       "2     -0.97770...</td>\n",
       "      <td>0      0.376722\n",
       "1      0.376722\n",
       "2      0.38349...</td>\n",
       "      <td>0    -0.445368\n",
       "1    -0.445368\n",
       "2     1.695360\n",
       "3...</td>\n",
       "      <td>0    -0.029297\n",
       "1    -0.029297\n",
       "2    -0.255684\n",
       "3...</td>\n",
       "      <td>0     0.029297\n",
       "1     0.029297\n",
       "2     0.375536\n",
       "3...</td>\n",
       "      <td>0    -0.047941\n",
       "1    -0.047941\n",
       "2     0.516694\n",
       "3...</td>\n",
       "    </tr>\n",
       "    <tr>\n",
       "      <th>34</th>\n",
       "      <td>0      0.052231\n",
       "1      0.052231\n",
       "2     -0.54804...</td>\n",
       "      <td>0     -0.730486\n",
       "1     -0.730486\n",
       "2      0.70700...</td>\n",
       "      <td>0    -0.518104\n",
       "1    -0.518104\n",
       "2    -1.179430\n",
       "3...</td>\n",
       "      <td>0    -0.159802\n",
       "1    -0.159802\n",
       "2    -0.239704\n",
       "3...</td>\n",
       "      <td>0    -0.045277\n",
       "1    -0.045277\n",
       "2     0.023970\n",
       "3...</td>\n",
       "      <td>0     -0.029297\n",
       "1     -0.029297\n",
       "2      0.29829...</td>\n",
       "    </tr>\n",
       "    <tr>\n",
       "      <th>36</th>\n",
       "      <td>0      1.686827\n",
       "1      1.686827\n",
       "2      0.88247...</td>\n",
       "      <td>0    -3.375054\n",
       "1    -3.375054\n",
       "2     1.149305\n",
       "3...</td>\n",
       "      <td>0     -1.295042\n",
       "1     -1.295042\n",
       "2     -0.97372...</td>\n",
       "      <td>0    -0.711121\n",
       "1    -0.711121\n",
       "2    -1.861697\n",
       "3...</td>\n",
       "      <td>0      0.013317\n",
       "1      0.013317\n",
       "2      0.20508...</td>\n",
       "      <td>0    -0.207743\n",
       "1    -0.207743\n",
       "2     0.114525\n",
       "3...</td>\n",
       "    </tr>\n",
       "    <tr>\n",
       "      <th>12</th>\n",
       "      <td>0      2.221946\n",
       "1      2.221946\n",
       "2     -7.70417...</td>\n",
       "      <td>0     -0.783638\n",
       "1     -0.783638\n",
       "2     -4.56992...</td>\n",
       "      <td>0     0.142401\n",
       "1     0.142401\n",
       "2     2.447367\n",
       "3...</td>\n",
       "      <td>0     0.055931\n",
       "1     0.055931\n",
       "2    -0.442120\n",
       "3...</td>\n",
       "      <td>0     0.071911\n",
       "1     0.071911\n",
       "2     0.010653\n",
       "3...</td>\n",
       "      <td>0     0.226387\n",
       "1     0.226387\n",
       "2    -1.978886\n",
       "3...</td>\n",
       "    </tr>\n",
       "  </tbody>\n",
       "</table>\n",
       "</div>"
      ],
      "text/plain": [
       "                                                dim_0  \\\n",
       "7   0    -0.352746\n",
       "1    -0.352746\n",
       "2    -1.354561\n",
       "3...   \n",
       "15  0     -0.159076\n",
       "1     -0.159076\n",
       "2     -0.97770...   \n",
       "34  0      0.052231\n",
       "1      0.052231\n",
       "2     -0.54804...   \n",
       "36  0      1.686827\n",
       "1      1.686827\n",
       "2      0.88247...   \n",
       "12  0      2.221946\n",
       "1      2.221946\n",
       "2     -7.70417...   \n",
       "\n",
       "                                                dim_1  \\\n",
       "7   0     0.316845\n",
       "1     0.316845\n",
       "2     0.490525\n",
       "3...   \n",
       "15  0      0.376722\n",
       "1      0.376722\n",
       "2      0.38349...   \n",
       "34  0     -0.730486\n",
       "1     -0.730486\n",
       "2      0.70700...   \n",
       "36  0    -3.375054\n",
       "1    -3.375054\n",
       "2     1.149305\n",
       "3...   \n",
       "12  0     -0.783638\n",
       "1     -0.783638\n",
       "2     -4.56992...   \n",
       "\n",
       "                                                dim_2  \\\n",
       "7   0    -0.473779\n",
       "1    -0.473779\n",
       "2     1.454261\n",
       "3...   \n",
       "15  0    -0.445368\n",
       "1    -0.445368\n",
       "2     1.695360\n",
       "3...   \n",
       "34  0    -0.518104\n",
       "1    -0.518104\n",
       "2    -1.179430\n",
       "3...   \n",
       "36  0     -1.295042\n",
       "1     -1.295042\n",
       "2     -0.97372...   \n",
       "12  0     0.142401\n",
       "1     0.142401\n",
       "2     2.447367\n",
       "3...   \n",
       "\n",
       "                                                dim_3  \\\n",
       "7   0    -0.327595\n",
       "1    -0.327595\n",
       "2    -0.269001\n",
       "3...   \n",
       "15  0    -0.029297\n",
       "1    -0.029297\n",
       "2    -0.255684\n",
       "3...   \n",
       "34  0    -0.159802\n",
       "1    -0.159802\n",
       "2    -0.239704\n",
       "3...   \n",
       "36  0    -0.711121\n",
       "1    -0.711121\n",
       "2    -1.861697\n",
       "3...   \n",
       "12  0     0.055931\n",
       "1     0.055931\n",
       "2    -0.442120\n",
       "3...   \n",
       "\n",
       "                                                dim_4  \\\n",
       "7   0     0.106535\n",
       "1     0.106535\n",
       "2     0.021307\n",
       "3...   \n",
       "15  0     0.029297\n",
       "1     0.029297\n",
       "2     0.375536\n",
       "3...   \n",
       "34  0    -0.045277\n",
       "1    -0.045277\n",
       "2     0.023970\n",
       "3...   \n",
       "36  0      0.013317\n",
       "1      0.013317\n",
       "2      0.20508...   \n",
       "12  0     0.071911\n",
       "1     0.071911\n",
       "2     0.010653\n",
       "3...   \n",
       "\n",
       "                                                dim_5  \n",
       "7   0     0.197090\n",
       "1     0.197090\n",
       "2     0.460763\n",
       "3...  \n",
       "15  0    -0.047941\n",
       "1    -0.047941\n",
       "2     0.516694\n",
       "3...  \n",
       "34  0     -0.029297\n",
       "1     -0.029297\n",
       "2      0.29829...  \n",
       "36  0    -0.207743\n",
       "1    -0.207743\n",
       "2     0.114525\n",
       "3...  \n",
       "12  0     0.226387\n",
       "1     0.226387\n",
       "2    -1.978886\n",
       "3...  "
      ]
     },
     "execution_count": 9,
     "metadata": {},
     "output_type": "execute_result"
    }
   ],
   "source": [
    "# multivariate input data\n",
    "X_train.head()"
   ]
  },
  {
   "cell_type": "code",
   "execution_count": 10,
   "metadata": {
    "scrolled": true
   },
   "outputs": [
    {
     "name": "stderr",
     "output_type": "stream",
     "text": [
      "/Users/travis/build/alan-turing-institute/sktime/sktime/transformers/series_as_features/summarize/_tsfresh.py:150: UserWarning: Found non-unique index, replaced with unique index.\n",
      "  warn(\"Found non-unique index, replaced with unique index.\")\n"
     ]
    },
    {
     "name": "stderr",
     "output_type": "stream",
     "text": [
      "\r",
      "Feature Extraction:   0%|          | 0/5 [00:00<?, ?it/s]"
     ]
    },
    {
     "name": "stderr",
     "output_type": "stream",
     "text": [
      "\r",
      "Feature Extraction:  20%|██        | 1/5 [00:07<00:31,  7.92s/it]"
     ]
    },
    {
     "name": "stderr",
     "output_type": "stream",
     "text": [
      "\r",
      "Feature Extraction:  40%|████      | 2/5 [00:15<00:23,  7.93s/it]"
     ]
    },
    {
     "name": "stderr",
     "output_type": "stream",
     "text": [
      "\r",
      "Feature Extraction:  60%|██████    | 3/5 [00:23<00:15,  7.90s/it]"
     ]
    },
    {
     "name": "stderr",
     "output_type": "stream",
     "text": [
      "\r",
      "Feature Extraction:  80%|████████  | 4/5 [00:31<00:07,  7.90s/it]"
     ]
    },
    {
     "name": "stderr",
     "output_type": "stream",
     "text": [
      "\r",
      "Feature Extraction: 100%|██████████| 5/5 [00:39<00:00,  7.85s/it]"
     ]
    },
    {
     "name": "stderr",
     "output_type": "stream",
     "text": [
      "\r",
      "Feature Extraction: 100%|██████████| 5/5 [00:39<00:00,  7.87s/it]"
     ]
    },
    {
     "name": "stderr",
     "output_type": "stream",
     "text": [
      "\n"
     ]
    },
    {
     "data": {
      "text/html": [
       "<div>\n",
       "<style scoped>\n",
       "    .dataframe tbody tr th:only-of-type {\n",
       "        vertical-align: middle;\n",
       "    }\n",
       "\n",
       "    .dataframe tbody tr th {\n",
       "        vertical-align: top;\n",
       "    }\n",
       "\n",
       "    .dataframe thead th {\n",
       "        text-align: right;\n",
       "    }\n",
       "</style>\n",
       "<table border=\"1\" class=\"dataframe\">\n",
       "  <thead>\n",
       "    <tr style=\"text-align: right;\">\n",
       "      <th>variable</th>\n",
       "      <th>dim_0__abs_energy</th>\n",
       "      <th>dim_0__absolute_sum_of_changes</th>\n",
       "      <th>dim_0__agg_autocorrelation__f_agg_\"mean\"__maxlag_40</th>\n",
       "      <th>dim_0__agg_autocorrelation__f_agg_\"median\"__maxlag_40</th>\n",
       "      <th>dim_0__agg_autocorrelation__f_agg_\"var\"__maxlag_40</th>\n",
       "      <th>dim_0__agg_linear_trend__attr_\"intercept\"__chunk_len_10__f_agg_\"max\"</th>\n",
       "      <th>dim_0__agg_linear_trend__attr_\"intercept\"__chunk_len_10__f_agg_\"mean\"</th>\n",
       "      <th>dim_0__agg_linear_trend__attr_\"intercept\"__chunk_len_10__f_agg_\"min\"</th>\n",
       "      <th>dim_0__agg_linear_trend__attr_\"intercept\"__chunk_len_10__f_agg_\"var\"</th>\n",
       "      <th>dim_0__agg_linear_trend__attr_\"intercept\"__chunk_len_50__f_agg_\"max\"</th>\n",
       "      <th>...</th>\n",
       "      <th>dim_5__symmetry_looking__r_0.9500000000000001</th>\n",
       "      <th>dim_5__time_reversal_asymmetry_statistic__lag_1</th>\n",
       "      <th>dim_5__time_reversal_asymmetry_statistic__lag_2</th>\n",
       "      <th>dim_5__time_reversal_asymmetry_statistic__lag_3</th>\n",
       "      <th>dim_5__value_count__value_-1</th>\n",
       "      <th>dim_5__value_count__value_0</th>\n",
       "      <th>dim_5__value_count__value_1</th>\n",
       "      <th>dim_5__variance</th>\n",
       "      <th>dim_5__variance_larger_than_standard_deviation</th>\n",
       "      <th>dim_5__variation_coefficient</th>\n",
       "    </tr>\n",
       "  </thead>\n",
       "  <tbody>\n",
       "    <tr>\n",
       "      <th>0</th>\n",
       "      <td>7.940863</td>\n",
       "      <td>17.538085</td>\n",
       "      <td>-0.012544</td>\n",
       "      <td>-0.033330</td>\n",
       "      <td>0.011363</td>\n",
       "      <td>0.308947</td>\n",
       "      <td>-0.199023</td>\n",
       "      <td>-0.815698</td>\n",
       "      <td>0.100413</td>\n",
       "      <td>0.590843</td>\n",
       "      <td>...</td>\n",
       "      <td>1.0</td>\n",
       "      <td>0.002756</td>\n",
       "      <td>0.004311</td>\n",
       "      <td>0.000921</td>\n",
       "      <td>0.0</td>\n",
       "      <td>0.0</td>\n",
       "      <td>0.0</td>\n",
       "      <td>0.078089</td>\n",
       "      <td>0.0</td>\n",
       "      <td>8.320448</td>\n",
       "    </tr>\n",
       "    <tr>\n",
       "      <th>1</th>\n",
       "      <td>20089.782616</td>\n",
       "      <td>936.012458</td>\n",
       "      <td>-0.031604</td>\n",
       "      <td>-0.070448</td>\n",
       "      <td>0.144797</td>\n",
       "      <td>24.032611</td>\n",
       "      <td>6.174375</td>\n",
       "      <td>-16.526685</td>\n",
       "      <td>200.755496</td>\n",
       "      <td>27.548164</td>\n",
       "      <td>...</td>\n",
       "      <td>1.0</td>\n",
       "      <td>5.090285</td>\n",
       "      <td>19.718272</td>\n",
       "      <td>76.965414</td>\n",
       "      <td>0.0</td>\n",
       "      <td>1.0</td>\n",
       "      <td>0.0</td>\n",
       "      <td>34.822337</td>\n",
       "      <td>1.0</td>\n",
       "      <td>-24.347572</td>\n",
       "    </tr>\n",
       "    <tr>\n",
       "      <th>2</th>\n",
       "      <td>5948.915061</td>\n",
       "      <td>501.410345</td>\n",
       "      <td>-0.010562</td>\n",
       "      <td>-0.000552</td>\n",
       "      <td>0.031380</td>\n",
       "      <td>18.482604</td>\n",
       "      <td>2.516002</td>\n",
       "      <td>-2.336228</td>\n",
       "      <td>46.381860</td>\n",
       "      <td>28.609226</td>\n",
       "      <td>...</td>\n",
       "      <td>1.0</td>\n",
       "      <td>9.110184</td>\n",
       "      <td>51.616973</td>\n",
       "      <td>17.067363</td>\n",
       "      <td>0.0</td>\n",
       "      <td>0.0</td>\n",
       "      <td>0.0</td>\n",
       "      <td>16.337173</td>\n",
       "      <td>1.0</td>\n",
       "      <td>-151.306128</td>\n",
       "    </tr>\n",
       "    <tr>\n",
       "      <th>3</th>\n",
       "      <td>8211.351444</td>\n",
       "      <td>469.750718</td>\n",
       "      <td>-0.008743</td>\n",
       "      <td>-0.060022</td>\n",
       "      <td>0.032161</td>\n",
       "      <td>23.713041</td>\n",
       "      <td>6.369427</td>\n",
       "      <td>-4.062657</td>\n",
       "      <td>77.811984</td>\n",
       "      <td>27.615267</td>\n",
       "      <td>...</td>\n",
       "      <td>1.0</td>\n",
       "      <td>-8.932064</td>\n",
       "      <td>8.306429</td>\n",
       "      <td>50.532681</td>\n",
       "      <td>0.0</td>\n",
       "      <td>0.0</td>\n",
       "      <td>0.0</td>\n",
       "      <td>22.928426</td>\n",
       "      <td>1.0</td>\n",
       "      <td>-8.784175</td>\n",
       "    </tr>\n",
       "    <tr>\n",
       "      <th>4</th>\n",
       "      <td>10701.446629</td>\n",
       "      <td>758.995994</td>\n",
       "      <td>-0.001368</td>\n",
       "      <td>-0.138129</td>\n",
       "      <td>0.176665</td>\n",
       "      <td>13.975994</td>\n",
       "      <td>1.681442</td>\n",
       "      <td>-14.370603</td>\n",
       "      <td>98.812450</td>\n",
       "      <td>17.693890</td>\n",
       "      <td>...</td>\n",
       "      <td>1.0</td>\n",
       "      <td>6.485339</td>\n",
       "      <td>24.752491</td>\n",
       "      <td>49.024603</td>\n",
       "      <td>0.0</td>\n",
       "      <td>0.0</td>\n",
       "      <td>0.0</td>\n",
       "      <td>20.123652</td>\n",
       "      <td>1.0</td>\n",
       "      <td>29.251607</td>\n",
       "    </tr>\n",
       "  </tbody>\n",
       "</table>\n",
       "<p>5 rows × 4542 columns</p>\n",
       "</div>"
      ],
      "text/plain": [
       "variable  dim_0__abs_energy  dim_0__absolute_sum_of_changes  \\\n",
       "0                  7.940863                       17.538085   \n",
       "1              20089.782616                      936.012458   \n",
       "2               5948.915061                      501.410345   \n",
       "3               8211.351444                      469.750718   \n",
       "4              10701.446629                      758.995994   \n",
       "\n",
       "variable  dim_0__agg_autocorrelation__f_agg_\"mean\"__maxlag_40  \\\n",
       "0                                                 -0.012544     \n",
       "1                                                 -0.031604     \n",
       "2                                                 -0.010562     \n",
       "3                                                 -0.008743     \n",
       "4                                                 -0.001368     \n",
       "\n",
       "variable  dim_0__agg_autocorrelation__f_agg_\"median\"__maxlag_40  \\\n",
       "0                                                 -0.033330       \n",
       "1                                                 -0.070448       \n",
       "2                                                 -0.000552       \n",
       "3                                                 -0.060022       \n",
       "4                                                 -0.138129       \n",
       "\n",
       "variable  dim_0__agg_autocorrelation__f_agg_\"var\"__maxlag_40  \\\n",
       "0                                                  0.011363    \n",
       "1                                                  0.144797    \n",
       "2                                                  0.031380    \n",
       "3                                                  0.032161    \n",
       "4                                                  0.176665    \n",
       "\n",
       "variable  dim_0__agg_linear_trend__attr_\"intercept\"__chunk_len_10__f_agg_\"max\"  \\\n",
       "0                                                  0.308947                      \n",
       "1                                                 24.032611                      \n",
       "2                                                 18.482604                      \n",
       "3                                                 23.713041                      \n",
       "4                                                 13.975994                      \n",
       "\n",
       "variable  dim_0__agg_linear_trend__attr_\"intercept\"__chunk_len_10__f_agg_\"mean\"  \\\n",
       "0                                                 -0.199023                       \n",
       "1                                                  6.174375                       \n",
       "2                                                  2.516002                       \n",
       "3                                                  6.369427                       \n",
       "4                                                  1.681442                       \n",
       "\n",
       "variable  dim_0__agg_linear_trend__attr_\"intercept\"__chunk_len_10__f_agg_\"min\"  \\\n",
       "0                                                 -0.815698                      \n",
       "1                                                -16.526685                      \n",
       "2                                                 -2.336228                      \n",
       "3                                                 -4.062657                      \n",
       "4                                                -14.370603                      \n",
       "\n",
       "variable  dim_0__agg_linear_trend__attr_\"intercept\"__chunk_len_10__f_agg_\"var\"  \\\n",
       "0                                                  0.100413                      \n",
       "1                                                200.755496                      \n",
       "2                                                 46.381860                      \n",
       "3                                                 77.811984                      \n",
       "4                                                 98.812450                      \n",
       "\n",
       "variable  dim_0__agg_linear_trend__attr_\"intercept\"__chunk_len_50__f_agg_\"max\"  \\\n",
       "0                                                  0.590843                      \n",
       "1                                                 27.548164                      \n",
       "2                                                 28.609226                      \n",
       "3                                                 27.615267                      \n",
       "4                                                 17.693890                      \n",
       "\n",
       "variable  ...  dim_5__symmetry_looking__r_0.9500000000000001  \\\n",
       "0         ...                                            1.0   \n",
       "1         ...                                            1.0   \n",
       "2         ...                                            1.0   \n",
       "3         ...                                            1.0   \n",
       "4         ...                                            1.0   \n",
       "\n",
       "variable  dim_5__time_reversal_asymmetry_statistic__lag_1  \\\n",
       "0                                                0.002756   \n",
       "1                                                5.090285   \n",
       "2                                                9.110184   \n",
       "3                                               -8.932064   \n",
       "4                                                6.485339   \n",
       "\n",
       "variable  dim_5__time_reversal_asymmetry_statistic__lag_2  \\\n",
       "0                                                0.004311   \n",
       "1                                               19.718272   \n",
       "2                                               51.616973   \n",
       "3                                                8.306429   \n",
       "4                                               24.752491   \n",
       "\n",
       "variable  dim_5__time_reversal_asymmetry_statistic__lag_3  \\\n",
       "0                                                0.000921   \n",
       "1                                               76.965414   \n",
       "2                                               17.067363   \n",
       "3                                               50.532681   \n",
       "4                                               49.024603   \n",
       "\n",
       "variable  dim_5__value_count__value_-1  dim_5__value_count__value_0  \\\n",
       "0                                  0.0                          0.0   \n",
       "1                                  0.0                          1.0   \n",
       "2                                  0.0                          0.0   \n",
       "3                                  0.0                          0.0   \n",
       "4                                  0.0                          0.0   \n",
       "\n",
       "variable  dim_5__value_count__value_1  dim_5__variance  \\\n",
       "0                                 0.0         0.078089   \n",
       "1                                 0.0        34.822337   \n",
       "2                                 0.0        16.337173   \n",
       "3                                 0.0        22.928426   \n",
       "4                                 0.0        20.123652   \n",
       "\n",
       "variable  dim_5__variance_larger_than_standard_deviation  \\\n",
       "0                                                    0.0   \n",
       "1                                                    1.0   \n",
       "2                                                    1.0   \n",
       "3                                                    1.0   \n",
       "4                                                    1.0   \n",
       "\n",
       "variable  dim_5__variation_coefficient  \n",
       "0                             8.320448  \n",
       "1                           -24.347572  \n",
       "2                          -151.306128  \n",
       "3                            -8.784175  \n",
       "4                            29.251607  \n",
       "\n",
       "[5 rows x 4542 columns]"
      ]
     },
     "execution_count": 10,
     "metadata": {},
     "output_type": "execute_result"
    }
   ],
   "source": [
    "t = TSFreshFeatureExtractor(default_fc_parameters=\"efficient\", show_warnings=False)\n",
    "Xt = t.fit_transform(X_train)\n",
    "Xt.head()"
   ]
  }
 ],
 "metadata": {
  "kernelspec": {
   "display_name": "Python 3",
   "language": "python",
   "name": "python3"
  },
  "language_info": {
   "codemirror_mode": {
    "name": "ipython",
    "version": 3
   },
   "file_extension": ".py",
   "mimetype": "text/x-python",
   "name": "python",
   "nbconvert_exporter": "python",
   "pygments_lexer": "ipython3",
   "version": "3.7.7"
  }
 },
 "nbformat": 4,
 "nbformat_minor": 2
}
